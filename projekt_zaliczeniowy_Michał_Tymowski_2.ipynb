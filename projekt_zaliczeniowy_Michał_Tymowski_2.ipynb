{
  "nbformat": 4,
  "nbformat_minor": 0,
  "metadata": {
    "colab": {
      "provenance": []
    },
    "kernelspec": {
      "name": "python3",
      "display_name": "Python 3"
    },
    "language_info": {
      "name": "python"
    }
  },
  "cells": [
    {
      "cell_type": "code",
      "execution_count": null,
      "metadata": {
        "id": "217N82JBIJxd"
      },
      "outputs": [],
      "source": [
        "import pandas as pd"
      ]
    },
    {
      "cell_type": "code",
      "source": [
        "import spacy"
      ],
      "metadata": {
        "id": "H5u3R0HrigTR"
      },
      "execution_count": null,
      "outputs": []
    },
    {
      "cell_type": "code",
      "source": [
        "df_twitter = pd.read_csv(\"/content/dane8 - dane8.csv\")"
      ],
      "metadata": {
        "id": "lxzJ-HW-JnjW"
      },
      "execution_count": null,
      "outputs": []
    },
    {
      "cell_type": "code",
      "source": [
        "df_twitter"
      ],
      "metadata": {
        "id": "xjsVV4BXJ20n"
      },
      "execution_count": null,
      "outputs": []
    },
    {
      "cell_type": "code",
      "source": [
        "#Część 1"
      ],
      "metadata": {
        "id": "mmICnAgoP6EX"
      },
      "execution_count": null,
      "outputs": []
    },
    {
      "cell_type": "code",
      "source": [
        "df_twitter[\"created_at\"] = [wiersz.replace(\"Thu\",\"Czwartek\") for wiersz in df_twitter[\"created_at\"]]\n",
        "df_twitter[\"created_at\"] = [wiersz.replace(\"Wed\",\"Środa\") for wiersz in df_twitter[\"created_at\"]]\n",
        "df_twitter[\"created_at\"] = [wiersz.replace(\"Mon\",\"Poniedziałek\") for wiersz in df_twitter[\"created_at\"]]\n",
        "df_twitter[\"created_at\"] = [wiersz.replace(\"Tue\",\"Wtorek\") for wiersz in df_twitter[\"created_at\"]]\n",
        "df_twitter[\"created_at\"] = [wiersz.replace(\"Fri\",\"Piątek\") for wiersz in df_twitter[\"created_at\"]]\n",
        "df_twitter[\"created_at\"] = [wiersz.replace(\"Sat\",\"Sobota\") for wiersz in df_twitter[\"created_at\"]]\n",
        "df_twitter[\"created_at\"] = [wiersz.replace(\"Sun\",\"Niedziela\") for wiersz in df_twitter[\"created_at\"]]"
      ],
      "metadata": {
        "id": "MxyS9mqnKOU_"
      },
      "execution_count": null,
      "outputs": []
    },
    {
      "cell_type": "code",
      "source": [
        "df_twitter[\"user_created_at\"] = [wiersz.replace(\"Jan\",\"01\") for wiersz in df_twitter[\"user_created_at\"]]\n",
        "df_twitter[\"user_created_at\"] = [wiersz.replace(\"Feb\",\"02\") for wiersz in df_twitter[\"user_created_at\"]]\n",
        "df_twitter[\"user_created_at\"] = [wiersz.replace(\"Mar\",\"03\") for wiersz in df_twitter[\"user_created_at\"]]\n",
        "df_twitter[\"user_created_at\"] = [wiersz.replace(\"Apr\",\"04\") for wiersz in df_twitter[\"user_created_at\"]]\n",
        "df_twitter[\"user_created_at\"] = [wiersz.replace(\"May\",\"05\") for wiersz in df_twitter[\"user_created_at\"]]\n",
        "df_twitter[\"user_created_at\"] = [wiersz.replace(\"Jun\",\"06\") for wiersz in df_twitter[\"user_created_at\"]]\n",
        "df_twitter[\"user_created_at\"] = [wiersz.replace(\"Jul\",\"07\") for wiersz in df_twitter[\"user_created_at\"]]\n",
        "df_twitter[\"user_created_at\"] = [wiersz.replace(\"Aug\",\"08\") for wiersz in df_twitter[\"user_created_at\"]]\n",
        "df_twitter[\"user_created_at\"] = [wiersz.replace(\"Sep\",\"09\") for wiersz in df_twitter[\"user_created_at\"]]\n",
        "df_twitter[\"user_created_at\"] = [wiersz.replace(\"Oct\",\"10\") for wiersz in df_twitter[\"user_created_at\"]]\n",
        "df_twitter[\"user_created_at\"] = [wiersz.replace(\"Nov\",\"11\") for wiersz in df_twitter[\"user_created_at\"]]\n",
        "df_twitter[\"user_created_at\"] = [wiersz.replace(\"Dec\",\"12\") for wiersz in df_twitter[\"user_created_at\"]]"
      ],
      "metadata": {
        "id": "gJW7Bp7IPVKS"
      },
      "execution_count": null,
      "outputs": []
    },
    {
      "cell_type": "code",
      "source": [
        "df_twitter[\"user_created_at\"]"
      ],
      "metadata": {
        "id": "Q_lPlKYmQqUj"
      },
      "execution_count": null,
      "outputs": []
    },
    {
      "cell_type": "code",
      "source": [
        "linki = df_twitter[\"tweet_url\"].tolist()"
      ],
      "metadata": {
        "id": "314XKVkxR6xU"
      },
      "execution_count": null,
      "outputs": []
    },
    {
      "cell_type": "code",
      "source": [
        "linki"
      ],
      "metadata": {
        "id": "eUlwE23Qapta"
      },
      "execution_count": null,
      "outputs": []
    },
    {
      "cell_type": "code",
      "source": [
        "df_twitter[\"urls\"]"
      ],
      "metadata": {
        "id": "Wnu1Zuc9bTTh"
      },
      "execution_count": null,
      "outputs": []
    },
    {
      "cell_type": "code",
      "source": [
        "linki2 = df_twitter[\"urls\"].tolist()"
      ],
      "metadata": {
        "id": "eGoY00s3cmdL"
      },
      "execution_count": null,
      "outputs": []
    },
    {
      "cell_type": "code",
      "source": [
        "linki2"
      ],
      "metadata": {
        "id": "xCCf1BJqd0BX"
      },
      "execution_count": null,
      "outputs": []
    },
    {
      "cell_type": "code",
      "source": [
        "obrazki = df_twitter[\"media\"].tolist()"
      ],
      "metadata": {
        "id": "OyQfT4IVeeQQ"
      },
      "execution_count": null,
      "outputs": []
    },
    {
      "cell_type": "code",
      "source": [
        "obrazki"
      ],
      "metadata": {
        "id": "_UDCErAKfQLU"
      },
      "execution_count": null,
      "outputs": []
    },
    {
      "cell_type": "code",
      "source": [
        "!pip install --upgrade spacy"
      ],
      "metadata": {
        "id": "qps9Jq8tb6EL"
      },
      "execution_count": null,
      "outputs": []
    },
    {
      "cell_type": "code",
      "source": [
        "!pip install -U pip setuptools wheel\n",
        "!pip install -U spacy\n",
        "!python -m spacy download pl_core_news_sm"
      ],
      "metadata": {
        "id": "VeJ5NGjPeW5D"
      },
      "execution_count": null,
      "outputs": []
    },
    {
      "cell_type": "code",
      "source": [
        "nlp = spacy.load(\"pl_core_news_sm\")"
      ],
      "metadata": {
        "id": "R5Q7XMCKeIBv"
      },
      "execution_count": null,
      "outputs": []
    },
    {
      "cell_type": "code",
      "source": [
        "def remove_stopwords(text):\n",
        "    doc = nlp(text)\n",
        "    return ' '.join([token.text for token in doc if not token.is_stop])\n"
      ],
      "metadata": {
        "id": "WokkQVU9hTiW"
      },
      "execution_count": null,
      "outputs": []
    },
    {
      "cell_type": "code",
      "source": [
        "df_twitter['text_without_stopwords'] = df_twitter['text'].apply(remove_stopwords)"
      ],
      "metadata": {
        "id": "tO9eSv_bhTeE"
      },
      "execution_count": null,
      "outputs": []
    },
    {
      "cell_type": "code",
      "source": [
        "#Część 2"
      ],
      "metadata": {
        "id": "JgTl8QVGirX5"
      },
      "execution_count": null,
      "outputs": []
    },
    {
      "cell_type": "code",
      "source": [
        "Liczba_polubień = df_twitter.sort_values(by=\"favorite_count\", ascending=False).head()"
      ],
      "metadata": {
        "id": "gIKcyhotkI9L"
      },
      "execution_count": null,
      "outputs": []
    },
    {
      "cell_type": "code",
      "source": [
        "Liczba_polubień"
      ],
      "metadata": {
        "id": "dmz5JDlamiEL"
      },
      "execution_count": null,
      "outputs": []
    },
    {
      "cell_type": "code",
      "source": [
        "Liczba_retweetów = df_twitter.sort_values(by=\"retweet_count\", ascending=False).head()"
      ],
      "metadata": {
        "id": "X9YMeCaNnX99"
      },
      "execution_count": null,
      "outputs": []
    },
    {
      "cell_type": "code",
      "source": [
        "Liczba_retweetów"
      ],
      "metadata": {
        "id": "GV9i7VHXnxiK"
      },
      "execution_count": null,
      "outputs": []
    },
    {
      "cell_type": "code",
      "source": [
        "Niewrażliwe_tweety = df_twitter[df_twitter['possibly_sensitive'] != False]"
      ],
      "metadata": {
        "id": "2hnd-Y1UoBhc"
      },
      "execution_count": null,
      "outputs": []
    },
    {
      "cell_type": "code",
      "source": [
        "Niewrażliwe_tweety"
      ],
      "metadata": {
        "id": "eu7vgQgMosGz"
      },
      "execution_count": null,
      "outputs": []
    },
    {
      "cell_type": "code",
      "source": [
        "df_twitter[\"user_created_at\"] = pd.to_datetime(df_twitter[\"created_at\"])"
      ],
      "metadata": {
        "id": "hhHJ2u_o4Rw9"
      },
      "execution_count": null,
      "outputs": []
    },
    {
      "cell_type": "code",
      "source": [
        "Najstarszy_użytkownik = df_twitter.loc[df_twitter[\"user_created_at\"].idxmin()]"
      ],
      "metadata": {
        "id": "4ZQHh4nv4dfy"
      },
      "execution_count": null,
      "outputs": []
    },
    {
      "cell_type": "code",
      "source": [
        "Stare_tweety = df_twitter[df_twitter[\"user_id\"] == Najstarszy_użytkownik[\"user_id\"]]"
      ],
      "metadata": {
        "id": "hcsZRpat4ddK"
      },
      "execution_count": null,
      "outputs": []
    },
    {
      "cell_type": "code",
      "source": [
        "Stare_tweety"
      ],
      "metadata": {
        "id": "aK2J6l2T4daY"
      },
      "execution_count": null,
      "outputs": []
    },
    {
      "cell_type": "code",
      "source": [
        "#Stare tweety działają na niezmodyfikowanej wersji arkusza. Część 1 projektu sprawia, że ten fragment nie włączy się"
      ],
      "metadata": {
        "id": "ET8kfVGG4dXG"
      },
      "execution_count": null,
      "outputs": []
    },
    {
      "cell_type": "code",
      "source": [],
      "metadata": {
        "id": "kG8Dw-zr4dSu"
      },
      "execution_count": null,
      "outputs": []
    },
    {
      "cell_type": "code",
      "source": [
        "Najwięcej_followersów = df_twitter.loc[df_twitter['user_followers_count'].idxmax()]"
      ],
      "metadata": {
        "id": "6hLTjP9F102A"
      },
      "execution_count": null,
      "outputs": []
    },
    {
      "cell_type": "code",
      "source": [
        "Tweety = df_twitter[df_twitter[\"user_id\"] == Najwięcej_followersów[\"user_id\"]]"
      ],
      "metadata": {
        "id": "kgzaQGb12F5-"
      },
      "execution_count": null,
      "outputs": []
    },
    {
      "cell_type": "code",
      "source": [
        "Tweety"
      ],
      "metadata": {
        "id": "9b_ttIKW2dm9"
      },
      "execution_count": null,
      "outputs": []
    },
    {
      "cell_type": "code",
      "source": [
        "Zweryfikowani_użytkownicy = df_twitter[df_twitter[\"user_verified\"] == True]"
      ],
      "metadata": {
        "id": "QlN_N4vN3fQ0"
      },
      "execution_count": null,
      "outputs": []
    },
    {
      "cell_type": "code",
      "source": [
        "Zweryfikowani_użytkownicy"
      ],
      "metadata": {
        "id": "G7_H7tKV3sXO"
      },
      "execution_count": null,
      "outputs": []
    },
    {
      "cell_type": "code",
      "source": [
        "#Część 3"
      ],
      "metadata": {
        "id": "UEFt7yDABTdr"
      },
      "execution_count": null,
      "outputs": []
    },
    {
      "cell_type": "code",
      "source": [
        "nlp = spacy.load('pl_core_news_sm')"
      ],
      "metadata": {
        "id": "LkoWuMJ-Eybq"
      },
      "execution_count": null,
      "outputs": []
    },
    {
      "cell_type": "code",
      "source": [
        "def extract_persons(text):\n",
        "    doc = nlp(text)\n",
        "    persons = [ent.text for ent in doc.ents if ent.label_ == 'persName']\n",
        "    return persons"
      ],
      "metadata": {
        "id": "awEdJRSSDpFa"
      },
      "execution_count": null,
      "outputs": []
    },
    {
      "cell_type": "code",
      "source": [
        "df_twitter[\"Imiona\"] = df_twitter[\"text\"].apply(extract_persons)"
      ],
      "metadata": {
        "id": "qdTUmC0iDu3O"
      },
      "execution_count": null,
      "outputs": []
    },
    {
      "cell_type": "code",
      "source": [
        "df_twitter"
      ],
      "metadata": {
        "id": "PHxnFarzEnw1"
      },
      "execution_count": null,
      "outputs": []
    },
    {
      "cell_type": "code",
      "source": [
        "def extract_places(text):\n",
        "    doc = nlp(text)\n",
        "    places = [ent.text for ent in doc.ents if ent.label_ == 'placeName']\n",
        "    return places"
      ],
      "metadata": {
        "id": "kBiOaC6HGaN1"
      },
      "execution_count": null,
      "outputs": []
    },
    {
      "cell_type": "code",
      "source": [
        "df_twitter[\"Miejsca\"] = df_twitter[\"text\"].apply(extract_places)"
      ],
      "metadata": {
        "id": "6JYUN0CuGecP"
      },
      "execution_count": null,
      "outputs": []
    },
    {
      "cell_type": "code",
      "source": [
        "def extract_organizations(text):\n",
        "    doc = nlp(text)\n",
        "    organizations = [ent.text for ent in doc.ents if ent.label_ == 'orgName']\n",
        "    return organizations"
      ],
      "metadata": {
        "id": "ICtcw_VSHTBd"
      },
      "execution_count": null,
      "outputs": []
    },
    {
      "cell_type": "code",
      "source": [
        "df_twitter[\"Organizacje\"] = df_twitter[\"text\"].apply(extract_organizations)"
      ],
      "metadata": {
        "id": "Cv8GdherHUXC"
      },
      "execution_count": null,
      "outputs": []
    },
    {
      "cell_type": "code",
      "source": [
        "#Część 4"
      ],
      "metadata": {
        "id": "O_N8rVfhIVgv"
      },
      "execution_count": null,
      "outputs": []
    },
    {
      "cell_type": "code",
      "source": [
        "import matplotlib.pyplot as plt"
      ],
      "metadata": {
        "id": "9vg9dZlHI4tL"
      },
      "execution_count": null,
      "outputs": []
    },
    {
      "cell_type": "code",
      "source": [
        "def extract_day_of_week(date):\n",
        "    date = pd.to_datetime(date)\n",
        "    return date.day_name()"
      ],
      "metadata": {
        "id": "bZtiHOsaI9Tb"
      },
      "execution_count": null,
      "outputs": []
    },
    {
      "cell_type": "code",
      "source": [
        "df_twitter[\"Dzień_tygodnia\"] = df_twitter['created_at'].apply(extract_day_of_week)"
      ],
      "metadata": {
        "id": "YY7wJXRFI-6V"
      },
      "execution_count": null,
      "outputs": []
    },
    {
      "cell_type": "code",
      "source": [
        "Tweety_na_dzień = df_twitter[\"Dzień_tygodnia\"].value_counts().sort_index()"
      ],
      "metadata": {
        "id": "YO5ORVIaJLI_"
      },
      "execution_count": null,
      "outputs": []
    },
    {
      "cell_type": "code",
      "source": [
        "plt.figure(figsize=(15, 11))\n",
        "Tweety_na_dzień.plot(kind='bar', color='skyblue')\n",
        "plt.title('Liczba tweetów w zależności od dnia tygodnia')\n",
        "plt.xlabel('Dzień tygodnia')\n",
        "plt.ylabel('Liczba tweetów')\n",
        "plt.xticks(rotation=45, ha='right')\n",
        "plt.show()"
      ],
      "metadata": {
        "id": "DRdBbSOUJSkM"
      },
      "execution_count": null,
      "outputs": []
    }
  ]
}